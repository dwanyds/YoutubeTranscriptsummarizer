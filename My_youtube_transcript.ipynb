{
  "nbformat": 4,
  "nbformat_minor": 0,
  "metadata": {
    "colab": {
      "provenance": [],
      "toc_visible": true
    },
    "kernelspec": {
      "name": "python3",
      "display_name": "Python 3"
    },
    "language_info": {
      "name": "python"
    }
  },
  "cells": [
    {
      "cell_type": "code",
      "source": [
        "\n",
        "pip install youtube_transcript_api \n",
        "#install api for getting transcript\n"
      ],
      "metadata": {
        "colab": {
          "base_uri": "https://localhost:8080/"
        },
        "id": "rfAv6Lfgl0HZ",
        "outputId": "c80f5277-a808-43c0-dfef-445f8eea327e"
      },
      "execution_count": null,
      "outputs": [
        {
          "output_type": "stream",
          "name": "stdout",
          "text": [
            "Looking in indexes: https://pypi.org/simple, https://us-python.pkg.dev/colab-wheels/public/simple/\n",
            "Collecting youtube_transcript_api\n",
            "  Downloading youtube_transcript_api-0.5.0-py3-none-any.whl (23 kB)\n",
            "Requirement already satisfied: requests in /usr/local/lib/python3.9/dist-packages (from youtube_transcript_api) (2.27.1)\n",
            "Requirement already satisfied: certifi>=2017.4.17 in /usr/local/lib/python3.9/dist-packages (from requests->youtube_transcript_api) (2022.12.7)\n",
            "Requirement already satisfied: urllib3<1.27,>=1.21.1 in /usr/local/lib/python3.9/dist-packages (from requests->youtube_transcript_api) (1.26.15)\n",
            "Requirement already satisfied: idna<4,>=2.5 in /usr/local/lib/python3.9/dist-packages (from requests->youtube_transcript_api) (3.4)\n",
            "Requirement already satisfied: charset-normalizer~=2.0.0 in /usr/local/lib/python3.9/dist-packages (from requests->youtube_transcript_api) (2.0.12)\n",
            "Installing collected packages: youtube_transcript_api\n",
            "Successfully installed youtube_transcript_api-0.5.0\n"
          ]
        }
      ]
    },
    {
      "cell_type": "code",
      "source": [
        "\n",
        "pip install gTTS\n",
        "#GTTS for making audio (Google Text-to-Speech) Python library"
      ],
      "metadata": {
        "id": "5I6Ab76YoADS",
        "colab": {
          "base_uri": "https://localhost:8080/"
        },
        "outputId": "154f9389-bfdc-4f0f-eb71-c0f877ae3e1f"
      },
      "execution_count": null,
      "outputs": [
        {
          "output_type": "stream",
          "name": "stdout",
          "text": [
            "Looking in indexes: https://pypi.org/simple, https://us-python.pkg.dev/colab-wheels/public/simple/\n",
            "Collecting gTTS\n",
            "  Downloading gTTS-2.3.1-py3-none-any.whl (28 kB)\n",
            "Requirement already satisfied: click<8.2,>=7.1 in /usr/local/lib/python3.9/dist-packages (from gTTS) (8.1.3)\n",
            "Requirement already satisfied: requests<3,>=2.27 in /usr/local/lib/python3.9/dist-packages (from gTTS) (2.27.1)\n",
            "Requirement already satisfied: certifi>=2017.4.17 in /usr/local/lib/python3.9/dist-packages (from requests<3,>=2.27->gTTS) (2022.12.7)\n",
            "Requirement already satisfied: charset-normalizer~=2.0.0 in /usr/local/lib/python3.9/dist-packages (from requests<3,>=2.27->gTTS) (2.0.12)\n",
            "Requirement already satisfied: idna<4,>=2.5 in /usr/local/lib/python3.9/dist-packages (from requests<3,>=2.27->gTTS) (3.4)\n",
            "Requirement already satisfied: urllib3<1.27,>=1.21.1 in /usr/local/lib/python3.9/dist-packages (from requests<3,>=2.27->gTTS) (1.26.15)\n",
            "Installing collected packages: gTTS\n",
            "Successfully installed gTTS-2.3.1\n"
          ]
        }
      ]
    },
    {
      "cell_type": "code",
      "source": [
        "url=input(\"enter youtube URL\")#receiving URL from user\n",
        "IdURL=url.split(\"?v=\")[1];#getting only id from youtube URL\n",
        "IdURL"
      ],
      "metadata": {
        "colab": {
          "base_uri": "https://localhost:8080/",
          "height": 55
        },
        "id": "ERX0cGx4Wk5J",
        "outputId": "593f4647-ebfd-430a-92d9-645dc0b0d6d3"
      },
      "execution_count": null,
      "outputs": [
        {
          "name": "stdout",
          "output_type": "stream",
          "text": [
            "enter youtube URLhttps://www.youtube.com/watch?v=yCjJyiqpAuU\n"
          ]
        },
        {
          "output_type": "execute_result",
          "data": {
            "text/plain": [
              "'yCjJyiqpAuU'"
            ],
            "application/vnd.google.colaboratory.intrinsic+json": {
              "type": "string"
            }
          },
          "metadata": {},
          "execution_count": 9
        }
      ]
    },
    {
      "cell_type": "code",
      "source": [
        "import re\n",
        "from youtube_transcript_api import YouTubeTranscriptApi\n",
        "srt = YouTubeTranscriptApi.get_transcript(IdURL)\n",
        "strkl=\"\";\n",
        "strkl1=\"\";\n",
        "for i in srt:\n",
        "  string = re.sub(r\"\\[.*?\\]\", \"\", i['text'])#remove [] text\n",
        "  string= re.sub(r\"[^\\w\\s]\", \"\", string)#get only alpha neuma and space\n",
        "  if string == \"\":\n",
        "    continue\n",
        "  else:\n",
        "   strkl+=string+\" \";#for converting to voice seperated with space\n",
        "   strkl1+=string+\"\\n\";#transcript for sending in email new lines(\\n) included\n",
        "filename=strkl[0:10].strip()#making file name for file\n",
        "strkl#Transcript with space seperated\n"
      ],
      "metadata": {
        "id": "h4IdqX0nmE6x",
        "colab": {
          "base_uri": "https://localhost:8080/",
          "height": 74
        },
        "outputId": "a43968b8-5045-4476-bd73-48d81668ecb1"
      },
      "execution_count": null,
      "outputs": [
        {
          "output_type": "execute_result",
          "data": {
            "text/plain": [
              "'\\n Twinkle twinkle little star   How I wonder what you are   Up above the world so high   Like a diamond in the sky   Twinkle twinkle little star   How I wonder what you are   Twinkle twinkle little star   How I wonder what you are   Up above the world so high   Like a diamond in the sky   Twinkle twinkle little star   How I wonder what you are  '"
            ],
            "application/vnd.google.colaboratory.intrinsic+json": {
              "type": "string"
            }
          },
          "metadata": {},
          "execution_count": 10
        }
      ]
    },
    {
      "cell_type": "code",
      "source": [
        "srt"
      ],
      "metadata": {
        "colab": {
          "base_uri": "https://localhost:8080/"
        },
        "id": "4AJv4leYmRya",
        "outputId": "b65d5a86-cc69-4a07-e1c1-114447bd423a"
      },
      "execution_count": null,
      "outputs": [
        {
          "output_type": "execute_result",
          "data": {
            "text/plain": [
              "[{'text': '[crickets chirping]', 'start': 2.0, 'duration': 3.0},\n",
              " {'text': '[music starts]', 'start': 12.0, 'duration': 2.0},\n",
              " {'text': '[owl hoots]', 'start': 15.0, 'duration': 2.0},\n",
              " {'text': '[little girl singing]\\n♪ Twinkle twinkle little star ♪',\n",
              "  'start': 19.7,\n",
              "  'duration': 5.3},\n",
              " {'text': '♪ How I wonder what you are ♪', 'start': 25.3, 'duration': 4.9},\n",
              " {'text': '♪ Up above the world so high ♪', 'start': 30.8, 'duration': 5.2},\n",
              " {'text': '♪ Like a diamond in the sky ♪', 'start': 36.3, 'duration': 5.0},\n",
              " {'text': '♪ Twinkle twinkle little star ♪', 'start': 42.0, 'duration': 4.7},\n",
              " {'text': '♪ How I wonder what you are ♪', 'start': 47.3, 'duration': 5.7},\n",
              " {'text': '[inspirational music]', 'start': 60.0, 'duration': 3.0},\n",
              " {'text': '♪ Twinkle twinkle little star ♪', 'start': 85.3, 'duration': 5.0},\n",
              " {'text': '♪ How I wonder what you are ♪', 'start': 91.0, 'duration': 5.0},\n",
              " {'text': '♪ Up above the world so high ♪', 'start': 96.3, 'duration': 4.9},\n",
              " {'text': '♪ Like a diamond in the sky ♪', 'start': 101.8, 'duration': 4.9},\n",
              " {'text': '♪ Twinkle twinkle little star ♪', 'start': 107.2, 'duration': 4.8},\n",
              " {'text': '♪ How I wonder what you are ♪',\n",
              "  'start': 112.005,\n",
              "  'duration': 6.495},\n",
              " {'text': '[crickets chirping]', 'start': 131.0, 'duration': 2.5},\n",
              " {'text': '[gentle piano music ends, leaving just the sound of the crickets]',\n",
              "  'start': 137.0,\n",
              "  'duration': 2.5}]"
            ]
          },
          "metadata": {},
          "execution_count": 13
        }
      ]
    },
    {
      "cell_type": "code",
      "source": [
        "from gtts import gTTS\n",
        "filename = filename+\".mp3\"\n",
        "tts = gTTS(text=strkl, lang='en', slow=False)\n",
        "tts.save(filename)#creating mp3 audio file"
      ],
      "metadata": {
        "id": "oH1aoD1EGQxD"
      },
      "execution_count": null,
      "outputs": []
    },
    {
      "cell_type": "code",
      "source": [
        "from google.colab import files\n",
        "files.download(filename)#promting created file for download"
      ],
      "metadata": {
        "colab": {
          "base_uri": "https://localhost:8080/",
          "height": 17
        },
        "id": "5af45e54FqG0",
        "outputId": "3e7d4d19-6f46-442c-8bb3-a3135265cbef"
      },
      "execution_count": null,
      "outputs": [
        {
          "output_type": "display_data",
          "data": {
            "text/plain": [
              "<IPython.core.display.Javascript object>"
            ],
            "application/javascript": [
              "\n",
              "    async function download(id, filename, size) {\n",
              "      if (!google.colab.kernel.accessAllowed) {\n",
              "        return;\n",
              "      }\n",
              "      const div = document.createElement('div');\n",
              "      const label = document.createElement('label');\n",
              "      label.textContent = `Downloading \"${filename}\": `;\n",
              "      div.appendChild(label);\n",
              "      const progress = document.createElement('progress');\n",
              "      progress.max = size;\n",
              "      div.appendChild(progress);\n",
              "      document.body.appendChild(div);\n",
              "\n",
              "      const buffers = [];\n",
              "      let downloaded = 0;\n",
              "\n",
              "      const channel = await google.colab.kernel.comms.open(id);\n",
              "      // Send a message to notify the kernel that we're ready.\n",
              "      channel.send({})\n",
              "\n",
              "      for await (const message of channel.messages) {\n",
              "        // Send a message to notify the kernel that we're ready.\n",
              "        channel.send({})\n",
              "        if (message.buffers) {\n",
              "          for (const buffer of message.buffers) {\n",
              "            buffers.push(buffer);\n",
              "            downloaded += buffer.byteLength;\n",
              "            progress.value = downloaded;\n",
              "          }\n",
              "        }\n",
              "      }\n",
              "      const blob = new Blob(buffers, {type: 'application/binary'});\n",
              "      const a = document.createElement('a');\n",
              "      a.href = window.URL.createObjectURL(blob);\n",
              "      a.download = filename;\n",
              "      div.appendChild(a);\n",
              "      a.click();\n",
              "      div.remove();\n",
              "    }\n",
              "  "
            ]
          },
          "metadata": {}
        },
        {
          "output_type": "display_data",
          "data": {
            "text/plain": [
              "<IPython.core.display.Javascript object>"
            ],
            "application/javascript": [
              "download(\"download_5435ab8d-a5d4-4668-9c95-b8c06dcd02fc\", \"Twinkle.mp3.mp3\", 84960)"
            ]
          },
          "metadata": {}
        }
      ]
    },
    {
      "cell_type": "code",
      "source": [
        "#Setup smtp\n",
        "import smtplib\n",
        "smtp_server = \"smtp.gmail.com\"\n",
        "smtp_port = 587\n",
        "smtp_username = \"colife0007@gmail.com\"\n",
        "smtp_password = \"xocxcfnbqoxolodr\"\n",
        "\n",
        "smtp_conn = smtplib.SMTP(smtp_server, smtp_port)\n",
        "smtp_conn.ehlo()\n",
        "smtp_conn.starttls()\n",
        "smtp_conn.login(smtp_username, smtp_password)\n",
        "\n",
        "from_email = smtp_username"
      ],
      "metadata": {
        "id": "UyJNudHYnVEl"
      },
      "execution_count": null,
      "outputs": []
    },
    {
      "cell_type": "code",
      "source": [
        "#Sending email with text transcript\n",
        "to_email = input(\"Enter email Id: \")#Enter email id to send transcript to user\n",
        "subject = \"Text Transcript\"\n",
        "body = strkl1\n",
        "\n",
        "msg = f\"From: {from_email}\\nTo: {to_email}\\nSubject: {subject}\\n\\n{body}\"\n",
        "\n",
        "smtp_conn.sendmail(from_email, to_email, msg)\n",
        "\n"
      ],
      "metadata": {
        "colab": {
          "base_uri": "https://localhost:8080/"
        },
        "id": "Rfxt-P5Slvyo",
        "outputId": "2be4a8c5-9a8d-4641-f334-8cd857ad9b2a"
      },
      "execution_count": null,
      "outputs": [
        {
          "name": "stdout",
          "output_type": "stream",
          "text": [
            "Enter email Iddwanyds.2000@gmail.com\n"
          ]
        },
        {
          "output_type": "execute_result",
          "data": {
            "text/plain": [
              "{}"
            ]
          },
          "metadata": {},
          "execution_count": 106
        }
      ]
    },
    {
      "cell_type": "code",
      "source": [
        "#to close smtp connection\n",
        "smtp_conn.quit()"
      ],
      "metadata": {
        "id": "QoirIdOrnML1"
      },
      "execution_count": null,
      "outputs": []
    }
  ]
}